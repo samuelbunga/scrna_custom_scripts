{
 "cells": [
  {
   "cell_type": "code",
   "execution_count": 6,
   "metadata": {},
   "outputs": [],
   "source": [
    "import os\n",
    "import sys\n",
    "import gseapy\n",
    "import numpy as np\n",
    "import pandas as pd\n",
    "from pathlib import Path\n",
    "from collections import defaultdict "
   ]
  },
  {
   "cell_type": "code",
   "execution_count": 7,
   "metadata": {},
   "outputs": [],
   "source": [
    "# Setting global variables\n",
    "gmt_database = \"/Users/sbunga/PycharmProjects/INDRA/scrna/test-project/annotation_script/gmt_database/\"\n",
    "\n",
    "\n",
    "def set_wd(outdir):\n",
    "    \"\"\"Set working directory to the provided path\"\"\"\n",
    "    try:\n",
    "        os.mkdir(outdir)\n",
    "        os.chdir(outdir)\n",
    "        os.mkdir('rnk')\n",
    "        os.mkdir('label_data')\n",
    "        print(\"Working directory set to: \"+os.getcwd())\n",
    "\n",
    "    except FileExistsError:\n",
    "        pass\n",
    "\n",
    "        \n",
    "def to_df(seurat_data_raw, delim):\n",
    "    df = pd.read_csv(seurat_data_raw, sep=delim, header=0)\n",
    "    return df\n",
    "\n",
    "        \n",
    "def to_csv(genes, pvals, cluster):\n",
    "    data = {\"Gene\":genes,\n",
    "            \"p_vals\": pvals}\n",
    "    rank_df = pd.DataFrame(data)\n",
    "    rank_df.to_csv(\"rnk/cluster_\"+str(cluster)+\".rnk\", sep=\"\\t\",\n",
    "                   index=False, header=False)\n",
    "\n",
    "\n",
    "def make_rank(seurat_df):\n",
    "    \"\"\" This function accepts a seurat cluster gene\n",
    "    dataframe and creates a rank file for each cluster \"\"\"\n",
    "    full_cluster = {0}\n",
    "    genes, pvals = [], []\n",
    "    count = 0 \n",
    "    for i in range(0, len(seurat_df)):\n",
    "        cluster = df.iloc[i]['cluster']\n",
    "        if cluster not in full_cluster:\n",
    "            full_cluster.add(cluster)\n",
    "            to_csv(genes, pvals, count)\n",
    "            count = cluster\n",
    "            # reset the genes and pvals list to empty\n",
    "            genes, pvals = [], []\n",
    "        genes.append(seurat_df.iloc[i]['gene'])\n",
    "        pvals.append(seurat_df.iloc[i]['avg_logFC'])\n",
    "        \n",
    "    # writing the data from the last loop\n",
    "    to_csv(genes, pvals, count)\n",
    "\n",
    "    \n",
    "def annotate_clusters(nclusters, species):\n",
    "    # Annotate each cluster\n",
    "    top = []\n",
    "    for each_cluster in range(0, nclusters):\n",
    "        try:\n",
    "            gseapy.prerank(\"rnk/cluster_\"+str(each_cluster)+\".rnk\",\n",
    "                           gmt_database + species + \".gmt\",\n",
    "                           'label_data/' + str(each_cluster) + '_folder')\n",
    "        except:\n",
    "            pass\n",
    "        if os.path.isfile('label_data/'+str(each_cluster)+'_folder/gseapy.prerank.gene_sets.report.csv'):\n",
    "            this_top = pd.read_csv(\n",
    "                'label_data/'+str(each_cluster)+'_folder/'+'gseapy.prerank.gene_sets.report.csv', header=0)\n",
    "            label = this_top['Term'].iloc[0]\n",
    "            top.append(str(label))\n",
    "        else:\n",
    "            top.append(\"unknown\" + str(each_cluster))\n",
    "    return top"
   ]
  },
  {
   "cell_type": "code",
   "execution_count": 9,
   "metadata": {
    "scrolled": true
   },
   "outputs": [],
   "source": [
    "if __name__ == \"__main__\":\n",
    "    set_wd(\"/Users/sbunga/PycharmProjects/INDRA/scrna/\"\n",
    "           \"test-project/annotation_script/test-outputs\")\n",
    "    df = to_df(\"/Users/sbunga/PycharmProjects/INDRA/scrna/\"\n",
    "           \"test-project/annotation_script/\"\n",
    "            \"streamlined_code_results_marker_files_2Groups_sampleMarkers_dim35_r2.5.csv\", delim=\",\")\n",
    "    make_rank(df)\n",
    "    top =  annotate_clusters(20, \"mouse\")\n",
    "    "
   ]
  },
  {
   "cell_type": "code",
   "execution_count": null,
   "metadata": {},
   "outputs": [],
   "source": []
  },
  {
   "cell_type": "code",
   "execution_count": 10,
   "metadata": {},
   "outputs": [
    {
     "data": {
      "text/plain": [
       "['Basal_Myoepithelial',\n",
       " 'MHC_class_II',\n",
       " 'ly_Endothelial_cells_FANTOM_2',\n",
       " 'Astrocytes_FANTOM_2',\n",
       " 'Luminal_1_1',\n",
       " 'Astrocytes_FANTOM_3',\n",
       " 'Astrocytes_FANTOM_2',\n",
       " 'Astrocytes_FANTOM_1',\n",
       " 'Keratinocytes_HPCA_3',\n",
       " 'Astrocytes_FANTOM_1',\n",
       " 'Astrocytes_FANTOM_2',\n",
       " 'Astrocytes_FANTOM_1',\n",
       " 'Endothelial_cells_BLUEPRINT_3',\n",
       " 'Macrophages_M1_FANTOM_2',\n",
       " 'Keratinocytes_FANTOM_1',\n",
       " 'Keratinocytes_HPCA_3',\n",
       " 'CD8+_T-cells',\n",
       " 'Keratinocytes_FANTOM_3',\n",
       " 'MHC_class_II',\n",
       " 'Astrocytes_FANTOM_3']"
      ]
     },
     "execution_count": 10,
     "metadata": {},
     "output_type": "execute_result"
    }
   ],
   "source": [
    "top"
   ]
  },
  {
   "cell_type": "code",
   "execution_count": null,
   "metadata": {},
   "outputs": [],
   "source": []
  }
 ],
 "metadata": {
  "kernelspec": {
   "display_name": "Python 3",
   "language": "python",
   "name": "python3"
  },
  "language_info": {
   "codemirror_mode": {
    "name": "ipython",
    "version": 3
   },
   "file_extension": ".py",
   "mimetype": "text/x-python",
   "name": "python",
   "nbconvert_exporter": "python",
   "pygments_lexer": "ipython3",
   "version": "3.8.5"
  }
 },
 "nbformat": 4,
 "nbformat_minor": 4
}
